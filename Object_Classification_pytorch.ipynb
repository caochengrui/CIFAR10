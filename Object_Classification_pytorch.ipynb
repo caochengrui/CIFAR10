{
  "nbformat": 4,
  "nbformat_minor": 0,
  "metadata": {
    "colab": {
      "provenance": [],
      "gpuType": "T4"
    },
    "kernelspec": {
      "name": "python3",
      "display_name": "Python 3"
    },
    "language_info": {
      "name": "python"
    },
    "accelerator": "GPU"
  },
  "cells": [
    {
      "cell_type": "code",
      "execution_count": null,
      "metadata": {
        "id": "zXYeCWlTBVhg"
      },
      "outputs": [],
      "source": [
        "import torch\n",
        "from torch.utils.data import DataLoader\n",
        "import torch.nn as nn\n",
        "import torch.optim as optim\n",
        "\n",
        "\n",
        "import torchvision\n",
        "import torchvision.transforms as transforms\n",
        "from torchsummary import summary\n",
        "\n",
        "from tqdm import tqdm\n",
        "import os"
      ]
    },
    {
      "cell_type": "code",
      "source": [
        "from google.colab import drive\n",
        "drive.mount('/content/drive')"
      ],
      "metadata": {
        "colab": {
          "base_uri": "https://localhost:8080/"
        },
        "id": "DCuWPoDWA1KR",
        "outputId": "06c20a36-0acc-4e6c-b371-29e2e5514274"
      },
      "execution_count": null,
      "outputs": [
        {
          "output_type": "stream",
          "name": "stdout",
          "text": [
            "Mounted at /content/drive\n"
          ]
        }
      ]
    },
    {
      "cell_type": "code",
      "source": [
        "device = torch.device('cuda' if torch.cuda.is_available() else 'cpu')\n",
        "print(f'Using device: {device}')\n",
        "\n",
        "torch.manual_seed(42)\n",
        "if device == 'cuda':\n",
        "    torch.cuda.manual_seed(42)\n",
        "\n",
        "# 定义数据预处理和增强\n",
        "transform_train = transforms.Compose([\n",
        "    transforms.RandomHorizontalFlip(),\n",
        "    transforms.ToTensor(),\n",
        "    transforms.Normalize((0.4914, 0.4822, 0.4465),\n",
        "                         (0.2023, 0.1994, 0.2010)),\n",
        "])\n",
        "\n",
        "transform_test = transforms.Compose([\n",
        "    transforms.ToTensor(),\n",
        "    transforms.Normalize((0.4914, 0.4822, 0.4465),\n",
        "                         (0.2023, 0.1994, 0.2010)),\n",
        "])\n",
        "\n",
        "train_dataset = torchvision.datasets.CIFAR10(root='./data', train=True, download=True, transform=transform_train)\n",
        "test_dataset = torchvision.datasets.CIFAR10(root='./data', train=False, download=True, transform=transform_test)\n",
        "\n",
        "batch_size = 32\n",
        "\n",
        "train_loader = DataLoader(train_dataset, batch_size=batch_size, shuffle=True, num_workers=2)\n",
        "test_loader = DataLoader(test_dataset, batch_size=batch_size, shuffle=False, num_workers=2)"
      ],
      "metadata": {
        "colab": {
          "base_uri": "https://localhost:8080/"
        },
        "id": "MN-ageqGBWwK",
        "outputId": "5c28a99e-0621-4d0e-db1e-f4b83c2aed54"
      },
      "execution_count": null,
      "outputs": [
        {
          "output_type": "stream",
          "name": "stdout",
          "text": [
            "Using device: cuda\n",
            "Downloading https://www.cs.toronto.edu/~kriz/cifar-10-python.tar.gz to ./data/cifar-10-python.tar.gz\n"
          ]
        },
        {
          "output_type": "stream",
          "name": "stderr",
          "text": [
            "100%|██████████| 170M/170M [00:05<00:00, 31.0MB/s]\n"
          ]
        },
        {
          "output_type": "stream",
          "name": "stdout",
          "text": [
            "Extracting ./data/cifar-10-python.tar.gz to ./data\n",
            "Files already downloaded and verified\n"
          ]
        }
      ]
    },
    {
      "cell_type": "code",
      "source": [
        "model = nn.Sequential(\n",
        "    # input_size(3, 32, 32)\n",
        "    nn.Conv2d(3, 64, kernel_size=3, padding=1),\n",
        "    nn.BatchNorm2d(64),\n",
        "    nn.ReLU(),\n",
        "    nn.MaxPool2d(2, 2),\n",
        "\n",
        "    nn.Conv2d(64, 128, kernel_size=3, padding=1),\n",
        "    nn.BatchNorm2d(128),\n",
        "    nn.ReLU(),\n",
        "    nn.MaxPool2d(2, 2),\n",
        "\n",
        "    nn.Conv2d(128, 256, kernel_size=3, padding=1),\n",
        "    nn.BatchNorm2d(256),\n",
        "    nn.ReLU(),\n",
        "    nn.MaxPool2d(2, 2),\n",
        "\n",
        "    nn.Flatten(),\n",
        "\n",
        "    nn.Linear(256 * 4 * 4, 1024),\n",
        "    nn.ReLU(),\n",
        "    nn.Dropout(0.5),\n",
        "    nn.Linear(1024, 10)\n",
        ").to(device)\n",
        "\n",
        "summary(model, input_size=(3, 32, 32))"
      ],
      "metadata": {
        "id": "g-eZ0knG4duX",
        "colab": {
          "base_uri": "https://localhost:8080/"
        },
        "outputId": "1754a1bc-d0c8-47cb-ab9e-5366d869a33e"
      },
      "execution_count": null,
      "outputs": [
        {
          "output_type": "stream",
          "name": "stdout",
          "text": [
            "----------------------------------------------------------------\n",
            "        Layer (type)               Output Shape         Param #\n",
            "================================================================\n",
            "            Conv2d-1           [-1, 64, 32, 32]           1,792\n",
            "       BatchNorm2d-2           [-1, 64, 32, 32]             128\n",
            "              ReLU-3           [-1, 64, 32, 32]               0\n",
            "         MaxPool2d-4           [-1, 64, 16, 16]               0\n",
            "            Conv2d-5          [-1, 128, 16, 16]          73,856\n",
            "       BatchNorm2d-6          [-1, 128, 16, 16]             256\n",
            "              ReLU-7          [-1, 128, 16, 16]               0\n",
            "         MaxPool2d-8            [-1, 128, 8, 8]               0\n",
            "            Conv2d-9            [-1, 256, 8, 8]         295,168\n",
            "      BatchNorm2d-10            [-1, 256, 8, 8]             512\n",
            "             ReLU-11            [-1, 256, 8, 8]               0\n",
            "        MaxPool2d-12            [-1, 256, 4, 4]               0\n",
            "          Flatten-13                 [-1, 4096]               0\n",
            "           Linear-14                 [-1, 1024]       4,195,328\n",
            "             ReLU-15                 [-1, 1024]               0\n",
            "          Dropout-16                 [-1, 1024]               0\n",
            "           Linear-17                   [-1, 10]          10,250\n",
            "================================================================\n",
            "Total params: 4,577,290\n",
            "Trainable params: 4,577,290\n",
            "Non-trainable params: 0\n",
            "----------------------------------------------------------------\n",
            "Input size (MB): 0.01\n",
            "Forward/backward pass size (MB): 2.90\n",
            "Params size (MB): 17.46\n",
            "Estimated Total Size (MB): 20.37\n",
            "----------------------------------------------------------------\n"
          ]
        }
      ]
    },
    {
      "cell_type": "code",
      "source": [
        "# Define loss function and optimizer\n",
        "criterion = nn.CrossEntropyLoss()\n",
        "optimizer = optim.Adam(model.parameters(), lr=0.001)\n",
        "\n",
        "# Initialize the ReduceLROnPlateau scheduler without the deprecated 'verbose' parameter\n",
        "LR_scheduler = optim.lr_scheduler.ReduceLROnPlateau(\n",
        "    optimizer,\n",
        "    mode=\"max\",\n",
        "    factor=0.1,\n",
        "    patience=3,\n",
        "    threshold=0.003,\n",
        "    threshold_mode='rel',\n",
        "    min_lr=1e-6\n",
        ")\n",
        "\n",
        "num_epochs = 50\n",
        "\n",
        "# Early Stopping parameters\n",
        "early_stopping_patience = 7  # Number of epochs to wait before stopping\n",
        "counter = 0  # Counts the number of epochs without improvement\n",
        "best_test_acc = 0.0  # Tracks the best test accuracy\n",
        "early_stop = False  # Flag to trigger early stopping\n",
        "\n",
        "# Model checkpoint path\n",
        "best_model_path = \"/content/drive/MyDrive/Model_Weights/CIFAR10/best_model.pth\"\n",
        "\n",
        "# Initialize previous learning rate\n",
        "prev_lr = optimizer.param_groups[0]['lr']\n",
        "\n",
        "for epoch in range(num_epochs):\n",
        "    if early_stop:\n",
        "        print(\"Early stopping triggered. Stopping training.\")\n",
        "        break  # Exit the training loop\n",
        "\n",
        "    model.train()\n",
        "    total_loss = 0.0\n",
        "    total_samples = 0\n",
        "    total_correct = 0\n",
        "\n",
        "    with tqdm(train_loader, desc=f\"Epoch {epoch+1}/{num_epochs}\", unit=\"batch\") as tepoch:\n",
        "        for i, (input, label) in enumerate(tepoch):\n",
        "            input, label = input.to(device), label.to(device)\n",
        "            optimizer.zero_grad()\n",
        "\n",
        "            output = model(input)\n",
        "            # loss: average loss of the batch\n",
        "            loss = criterion(output, label)\n",
        "            total_loss += loss.item()\n",
        "            # len(train_loader): number of batches\n",
        "            train_loss = total_loss / (i + 1)\n",
        "\n",
        "            _, predicted = torch.max(output, 1)\n",
        "            total_correct += (predicted == label).sum().item()\n",
        "            # input.size(0): batch size; total_samples: number of inputs\n",
        "            total_samples += input.size(0)\n",
        "            train_acc = total_correct / total_samples\n",
        "\n",
        "            loss.backward()\n",
        "            optimizer.step()\n",
        "\n",
        "            tepoch.set_postfix(train_loss=train_loss, train_accuracy=f\"{100*train_acc:.2f}%\")\n",
        "\n",
        "    # Evaluation Phase\n",
        "    model.eval()\n",
        "    total_loss = 0.0\n",
        "    total_samples = 0\n",
        "    total_correct = 0\n",
        "\n",
        "    with torch.no_grad():\n",
        "        with tqdm(test_loader, desc=f\"Evaluating Epoch {epoch+1}/{num_epochs}\", unit=\"batch\") as tepoch:\n",
        "            for j, (input, label) in enumerate(tepoch):\n",
        "                input, label = input.to(device), label.to(device)\n",
        "                output = model(input)\n",
        "\n",
        "                loss = criterion(output, label)\n",
        "                total_loss += loss.item()\n",
        "                test_loss = total_loss / (j + 1)  # Using j as counter\n",
        "\n",
        "                _, predicted = torch.max(output, 1)\n",
        "                total_correct += (predicted == label).sum().item()\n",
        "                total_samples += input.size(0)\n",
        "                test_acc = total_correct / total_samples\n",
        "\n",
        "                tepoch.set_postfix(loss=test_loss, test_accuracy=f\"{100*test_acc:.2f}%\")\n",
        "\n",
        "    # Step the scheduler with the test accuracy\n",
        "    LR_scheduler.step(test_acc)\n",
        "\n",
        "    # Get the current learning rate\n",
        "    current_lr = optimizer.param_groups[0]['lr']\n",
        "\n",
        "    # Print epoch metrics\n",
        "    print(f\"Train Loss: {train_loss:.4f} | Train Accuracy: {train_acc*100:.2f}%\")\n",
        "    print(f\"Test Loss: {test_loss:.4f} | Test Accuracy: {test_acc*100:.2f}%\")\n",
        "\n",
        "    # Check if the learning rate has changed\n",
        "    if current_lr != prev_lr:\n",
        "        print(f\"Learning Rate adjusted to: {current_lr}\")\n",
        "        prev_lr = current_lr\n",
        "\n",
        "    # Check for improvement\n",
        "    if test_acc > best_test_acc:\n",
        "        best_test_acc = test_acc\n",
        "        counter = 0  # Reset counter since we have an improvement\n",
        "        torch.save(model.state_dict(), best_model_path)  # Save the best model state\n",
        "        print(f\"New best test accuracy: {best_test_acc*100:.2f}% - Model saved.\")\n",
        "    else:\n",
        "        counter += 1\n",
        "        print(f\"No improvement in test accuracy for {counter} epoch(s).\")\n",
        "        if counter >= early_stopping_patience:\n",
        "            print(f\"Early stopping triggered after {epoch+1} epochs.\")\n",
        "            early_stop = True  # Set the flag to stop training\n",
        "\n",
        "    print(\"-\" * 50)  # Separator for readability\n",
        "\n",
        "# After training, load the best model state\n",
        "if os.path.exists(best_model_path):\n",
        "    model.load_state_dict(torch.load(best_model_path))\n",
        "    print(f\"Loaded the best model from {best_model_path} with test accuracy: {best_test_acc*100:.2f}%\")\n",
        "else:\n",
        "    print(\"No improvement observed during training.\")"
      ],
      "metadata": {
        "id": "mobnChzbGb0C",
        "colab": {
          "base_uri": "https://localhost:8080/"
        },
        "outputId": "b81270cc-2bd1-4d82-e5d7-8abda0cb76f4"
      },
      "execution_count": null,
      "outputs": [
        {
          "output_type": "stream",
          "name": "stderr",
          "text": [
            "Epoch 1/50: 100%|██████████| 1563/1563 [00:28<00:00, 54.51batch/s, train_accuracy=47.31%, train_loss=1.46]\n",
            "Evaluating Epoch 1/50: 100%|██████████| 313/313 [00:04<00:00, 73.98batch/s, loss=1.12, test_accuracy=59.46%]\n"
          ]
        },
        {
          "output_type": "stream",
          "name": "stdout",
          "text": [
            "Train Loss: 1.4614 | Train Accuracy: 47.31%\n",
            "Test Loss: 1.1225 | Test Accuracy: 59.46%\n",
            "New best test accuracy: 59.46% - Model saved.\n",
            "--------------------------------------------------\n"
          ]
        },
        {
          "output_type": "stream",
          "name": "stderr",
          "text": [
            "Epoch 2/50: 100%|██████████| 1563/1563 [00:25<00:00, 60.58batch/s, train_accuracy=62.29%, train_loss=1.08]\n",
            "Evaluating Epoch 2/50: 100%|██████████| 313/313 [00:05<00:00, 59.11batch/s, loss=0.894, test_accuracy=68.82%]\n"
          ]
        },
        {
          "output_type": "stream",
          "name": "stdout",
          "text": [
            "Train Loss: 1.0755 | Train Accuracy: 62.29%\n",
            "Test Loss: 0.8937 | Test Accuracy: 68.82%\n",
            "New best test accuracy: 68.82% - Model saved.\n",
            "--------------------------------------------------\n"
          ]
        },
        {
          "output_type": "stream",
          "name": "stderr",
          "text": [
            "Epoch 3/50: 100%|██████████| 1563/1563 [00:25<00:00, 61.00batch/s, train_accuracy=68.44%, train_loss=0.913]\n",
            "Evaluating Epoch 3/50: 100%|██████████| 313/313 [00:05<00:00, 58.00batch/s, loss=0.793, test_accuracy=72.56%]\n"
          ]
        },
        {
          "output_type": "stream",
          "name": "stdout",
          "text": [
            "Train Loss: 0.9135 | Train Accuracy: 68.44%\n",
            "Test Loss: 0.7929 | Test Accuracy: 72.56%\n",
            "New best test accuracy: 72.56% - Model saved.\n",
            "--------------------------------------------------\n"
          ]
        },
        {
          "output_type": "stream",
          "name": "stderr",
          "text": [
            "Epoch 4/50: 100%|██████████| 1563/1563 [00:25<00:00, 60.38batch/s, train_accuracy=72.56%, train_loss=0.803]\n",
            "Evaluating Epoch 4/50: 100%|██████████| 313/313 [00:05<00:00, 61.16batch/s, loss=0.679, test_accuracy=76.54%]\n"
          ]
        },
        {
          "output_type": "stream",
          "name": "stdout",
          "text": [
            "Train Loss: 0.8030 | Train Accuracy: 72.56%\n",
            "Test Loss: 0.6794 | Test Accuracy: 76.54%\n",
            "New best test accuracy: 76.54% - Model saved.\n",
            "--------------------------------------------------\n"
          ]
        },
        {
          "output_type": "stream",
          "name": "stderr",
          "text": [
            "Epoch 5/50: 100%|██████████| 1563/1563 [00:26<00:00, 59.65batch/s, train_accuracy=75.23%, train_loss=0.726]\n",
            "Evaluating Epoch 5/50: 100%|██████████| 313/313 [00:05<00:00, 62.36batch/s, loss=0.661, test_accuracy=77.57%]\n"
          ]
        },
        {
          "output_type": "stream",
          "name": "stdout",
          "text": [
            "Train Loss: 0.7264 | Train Accuracy: 75.23%\n",
            "Test Loss: 0.6606 | Test Accuracy: 77.57%\n",
            "New best test accuracy: 77.57% - Model saved.\n",
            "--------------------------------------------------\n"
          ]
        },
        {
          "output_type": "stream",
          "name": "stderr",
          "text": [
            "Epoch 6/50: 100%|██████████| 1563/1563 [00:26<00:00, 59.35batch/s, train_accuracy=77.42%, train_loss=0.656]\n",
            "Evaluating Epoch 6/50: 100%|██████████| 313/313 [00:04<00:00, 69.63batch/s, loss=0.588, test_accuracy=79.73%]\n"
          ]
        },
        {
          "output_type": "stream",
          "name": "stdout",
          "text": [
            "Train Loss: 0.6560 | Train Accuracy: 77.42%\n",
            "Test Loss: 0.5877 | Test Accuracy: 79.73%\n",
            "New best test accuracy: 79.73% - Model saved.\n",
            "--------------------------------------------------\n"
          ]
        },
        {
          "output_type": "stream",
          "name": "stderr",
          "text": [
            "Epoch 7/50: 100%|██████████| 1563/1563 [00:26<00:00, 59.17batch/s, train_accuracy=79.64%, train_loss=0.599]\n",
            "Evaluating Epoch 7/50: 100%|██████████| 313/313 [00:04<00:00, 73.99batch/s, loss=0.553, test_accuracy=81.07%]\n"
          ]
        },
        {
          "output_type": "stream",
          "name": "stdout",
          "text": [
            "Train Loss: 0.5987 | Train Accuracy: 79.64%\n",
            "Test Loss: 0.5530 | Test Accuracy: 81.07%\n",
            "New best test accuracy: 81.07% - Model saved.\n",
            "--------------------------------------------------\n"
          ]
        },
        {
          "output_type": "stream",
          "name": "stderr",
          "text": [
            "Epoch 8/50: 100%|██████████| 1563/1563 [00:26<00:00, 58.89batch/s, train_accuracy=81.39%, train_loss=0.548]\n",
            "Evaluating Epoch 8/50: 100%|██████████| 313/313 [00:04<00:00, 73.58batch/s, loss=0.577, test_accuracy=80.62%]\n"
          ]
        },
        {
          "output_type": "stream",
          "name": "stdout",
          "text": [
            "Train Loss: 0.5484 | Train Accuracy: 81.39%\n",
            "Test Loss: 0.5768 | Test Accuracy: 80.62%\n",
            "No improvement in test accuracy for 1 epoch(s).\n",
            "--------------------------------------------------\n"
          ]
        },
        {
          "output_type": "stream",
          "name": "stderr",
          "text": [
            "Epoch 9/50: 100%|██████████| 1563/1563 [00:26<00:00, 58.85batch/s, train_accuracy=82.92%, train_loss=0.505]\n",
            "Evaluating Epoch 9/50: 100%|██████████| 313/313 [00:04<00:00, 77.96batch/s, loss=0.552, test_accuracy=81.04%]\n"
          ]
        },
        {
          "output_type": "stream",
          "name": "stdout",
          "text": [
            "Train Loss: 0.5046 | Train Accuracy: 82.92%\n",
            "Test Loss: 0.5516 | Test Accuracy: 81.04%\n",
            "No improvement in test accuracy for 2 epoch(s).\n",
            "--------------------------------------------------\n"
          ]
        },
        {
          "output_type": "stream",
          "name": "stderr",
          "text": [
            "Epoch 10/50: 100%|██████████| 1563/1563 [00:27<00:00, 57.65batch/s, train_accuracy=84.17%, train_loss=0.466]\n",
            "Evaluating Epoch 10/50: 100%|██████████| 313/313 [00:03<00:00, 79.97batch/s, loss=0.55, test_accuracy=81.60%]\n"
          ]
        },
        {
          "output_type": "stream",
          "name": "stdout",
          "text": [
            "Train Loss: 0.4660 | Train Accuracy: 84.17%\n",
            "Test Loss: 0.5501 | Test Accuracy: 81.60%\n",
            "New best test accuracy: 81.60% - Model saved.\n",
            "--------------------------------------------------\n"
          ]
        },
        {
          "output_type": "stream",
          "name": "stderr",
          "text": [
            "Epoch 11/50: 100%|██████████| 1563/1563 [00:26<00:00, 58.19batch/s, train_accuracy=85.45%, train_loss=0.425]\n",
            "Evaluating Epoch 11/50: 100%|██████████| 313/313 [00:03<00:00, 80.98batch/s, loss=0.565, test_accuracy=81.40%]\n"
          ]
        },
        {
          "output_type": "stream",
          "name": "stdout",
          "text": [
            "Train Loss: 0.4254 | Train Accuracy: 85.45%\n",
            "Test Loss: 0.5649 | Test Accuracy: 81.40%\n",
            "No improvement in test accuracy for 1 epoch(s).\n",
            "--------------------------------------------------\n"
          ]
        },
        {
          "output_type": "stream",
          "name": "stderr",
          "text": [
            "Epoch 12/50: 100%|██████████| 1563/1563 [00:26<00:00, 58.61batch/s, train_accuracy=86.23%, train_loss=0.402]\n",
            "Evaluating Epoch 12/50: 100%|██████████| 313/313 [00:03<00:00, 80.87batch/s, loss=0.51, test_accuracy=83.52%]\n"
          ]
        },
        {
          "output_type": "stream",
          "name": "stdout",
          "text": [
            "Train Loss: 0.4023 | Train Accuracy: 86.23%\n",
            "Test Loss: 0.5096 | Test Accuracy: 83.52%\n",
            "New best test accuracy: 83.52% - Model saved.\n",
            "--------------------------------------------------\n"
          ]
        },
        {
          "output_type": "stream",
          "name": "stderr",
          "text": [
            "Epoch 13/50: 100%|██████████| 1563/1563 [00:26<00:00, 58.28batch/s, train_accuracy=87.28%, train_loss=0.372]\n",
            "Evaluating Epoch 13/50: 100%|██████████| 313/313 [00:03<00:00, 80.38batch/s, loss=0.55, test_accuracy=82.97%]\n"
          ]
        },
        {
          "output_type": "stream",
          "name": "stdout",
          "text": [
            "Train Loss: 0.3719 | Train Accuracy: 87.28%\n",
            "Test Loss: 0.5497 | Test Accuracy: 82.97%\n",
            "No improvement in test accuracy for 1 epoch(s).\n",
            "--------------------------------------------------\n"
          ]
        },
        {
          "output_type": "stream",
          "name": "stderr",
          "text": [
            "Epoch 14/50: 100%|██████████| 1563/1563 [00:26<00:00, 58.58batch/s, train_accuracy=88.14%, train_loss=0.349]\n",
            "Evaluating Epoch 14/50: 100%|██████████| 313/313 [00:03<00:00, 80.74batch/s, loss=0.517, test_accuracy=83.72%]\n"
          ]
        },
        {
          "output_type": "stream",
          "name": "stdout",
          "text": [
            "Train Loss: 0.3486 | Train Accuracy: 88.14%\n",
            "Test Loss: 0.5171 | Test Accuracy: 83.72%\n",
            "New best test accuracy: 83.72% - Model saved.\n",
            "--------------------------------------------------\n"
          ]
        },
        {
          "output_type": "stream",
          "name": "stderr",
          "text": [
            "Epoch 15/50: 100%|██████████| 1563/1563 [00:26<00:00, 58.49batch/s, train_accuracy=88.96%, train_loss=0.323]\n",
            "Evaluating Epoch 15/50: 100%|██████████| 313/313 [00:03<00:00, 81.17batch/s, loss=0.545, test_accuracy=83.14%]\n"
          ]
        },
        {
          "output_type": "stream",
          "name": "stdout",
          "text": [
            "Train Loss: 0.3225 | Train Accuracy: 88.96%\n",
            "Test Loss: 0.5453 | Test Accuracy: 83.14%\n",
            "No improvement in test accuracy for 1 epoch(s).\n",
            "--------------------------------------------------\n"
          ]
        },
        {
          "output_type": "stream",
          "name": "stderr",
          "text": [
            "Epoch 16/50: 100%|██████████| 1563/1563 [00:26<00:00, 58.70batch/s, train_accuracy=89.68%, train_loss=0.303]\n",
            "Evaluating Epoch 16/50: 100%|██████████| 313/313 [00:03<00:00, 80.40batch/s, loss=0.574, test_accuracy=82.92%]\n"
          ]
        },
        {
          "output_type": "stream",
          "name": "stdout",
          "text": [
            "Train Loss: 0.3028 | Train Accuracy: 89.68%\n",
            "Test Loss: 0.5738 | Test Accuracy: 82.92%\n",
            "Learning Rate adjusted to: 0.0001\n",
            "No improvement in test accuracy for 2 epoch(s).\n",
            "--------------------------------------------------\n"
          ]
        },
        {
          "output_type": "stream",
          "name": "stderr",
          "text": [
            "Epoch 17/50: 100%|██████████| 1563/1563 [00:26<00:00, 58.93batch/s, train_accuracy=92.19%, train_loss=0.227]\n",
            "Evaluating Epoch 17/50: 100%|██████████| 313/313 [00:03<00:00, 79.27batch/s, loss=0.496, test_accuracy=85.52%]\n"
          ]
        },
        {
          "output_type": "stream",
          "name": "stdout",
          "text": [
            "Train Loss: 0.2268 | Train Accuracy: 92.19%\n",
            "Test Loss: 0.4957 | Test Accuracy: 85.52%\n",
            "New best test accuracy: 85.52% - Model saved.\n",
            "--------------------------------------------------\n"
          ]
        },
        {
          "output_type": "stream",
          "name": "stderr",
          "text": [
            "Epoch 18/50: 100%|██████████| 1563/1563 [00:26<00:00, 58.68batch/s, train_accuracy=93.30%, train_loss=0.194]\n",
            "Evaluating Epoch 18/50: 100%|██████████| 313/313 [00:03<00:00, 79.05batch/s, loss=0.505, test_accuracy=85.59%]\n"
          ]
        },
        {
          "output_type": "stream",
          "name": "stdout",
          "text": [
            "Train Loss: 0.1944 | Train Accuracy: 93.30%\n",
            "Test Loss: 0.5051 | Test Accuracy: 85.59%\n",
            "New best test accuracy: 85.59% - Model saved.\n",
            "--------------------------------------------------\n"
          ]
        },
        {
          "output_type": "stream",
          "name": "stderr",
          "text": [
            "Epoch 19/50: 100%|██████████| 1563/1563 [00:26<00:00, 57.94batch/s, train_accuracy=93.87%, train_loss=0.178]\n",
            "Evaluating Epoch 19/50: 100%|██████████| 313/313 [00:03<00:00, 81.40batch/s, loss=0.51, test_accuracy=85.64%]\n"
          ]
        },
        {
          "output_type": "stream",
          "name": "stdout",
          "text": [
            "Train Loss: 0.1780 | Train Accuracy: 93.87%\n",
            "Test Loss: 0.5104 | Test Accuracy: 85.64%\n",
            "New best test accuracy: 85.64% - Model saved.\n",
            "--------------------------------------------------\n"
          ]
        },
        {
          "output_type": "stream",
          "name": "stderr",
          "text": [
            "Epoch 20/50: 100%|██████████| 1563/1563 [00:26<00:00, 57.95batch/s, train_accuracy=94.17%, train_loss=0.168]\n",
            "Evaluating Epoch 20/50: 100%|██████████| 313/313 [00:03<00:00, 78.60batch/s, loss=0.515, test_accuracy=85.62%]\n"
          ]
        },
        {
          "output_type": "stream",
          "name": "stdout",
          "text": [
            "Train Loss: 0.1679 | Train Accuracy: 94.17%\n",
            "Test Loss: 0.5152 | Test Accuracy: 85.62%\n",
            "No improvement in test accuracy for 1 epoch(s).\n",
            "--------------------------------------------------\n"
          ]
        },
        {
          "output_type": "stream",
          "name": "stderr",
          "text": [
            "Epoch 21/50: 100%|██████████| 1563/1563 [00:26<00:00, 58.23batch/s, train_accuracy=94.55%, train_loss=0.157]\n",
            "Evaluating Epoch 21/50: 100%|██████████| 313/313 [00:03<00:00, 80.50batch/s, loss=0.522, test_accuracy=85.64%]\n"
          ]
        },
        {
          "output_type": "stream",
          "name": "stdout",
          "text": [
            "Train Loss: 0.1569 | Train Accuracy: 94.55%\n",
            "Test Loss: 0.5225 | Test Accuracy: 85.64%\n",
            "Learning Rate adjusted to: 1e-05\n",
            "No improvement in test accuracy for 2 epoch(s).\n",
            "--------------------------------------------------\n"
          ]
        },
        {
          "output_type": "stream",
          "name": "stderr",
          "text": [
            "Epoch 22/50: 100%|██████████| 1563/1563 [00:26<00:00, 58.53batch/s, train_accuracy=94.96%, train_loss=0.146]\n",
            "Evaluating Epoch 22/50: 100%|██████████| 313/313 [00:03<00:00, 80.27batch/s, loss=0.52, test_accuracy=85.85%]\n"
          ]
        },
        {
          "output_type": "stream",
          "name": "stdout",
          "text": [
            "Train Loss: 0.1464 | Train Accuracy: 94.96%\n",
            "Test Loss: 0.5198 | Test Accuracy: 85.85%\n",
            "New best test accuracy: 85.85% - Model saved.\n",
            "--------------------------------------------------\n"
          ]
        },
        {
          "output_type": "stream",
          "name": "stderr",
          "text": [
            "Epoch 23/50: 100%|██████████| 1563/1563 [00:26<00:00, 58.04batch/s, train_accuracy=95.07%, train_loss=0.144]\n",
            "Evaluating Epoch 23/50: 100%|██████████| 313/313 [00:03<00:00, 79.74batch/s, loss=0.526, test_accuracy=85.68%]\n"
          ]
        },
        {
          "output_type": "stream",
          "name": "stdout",
          "text": [
            "Train Loss: 0.1443 | Train Accuracy: 95.07%\n",
            "Test Loss: 0.5260 | Test Accuracy: 85.68%\n",
            "No improvement in test accuracy for 1 epoch(s).\n",
            "--------------------------------------------------\n"
          ]
        },
        {
          "output_type": "stream",
          "name": "stderr",
          "text": [
            "Epoch 24/50: 100%|██████████| 1563/1563 [00:26<00:00, 58.05batch/s, train_accuracy=95.14%, train_loss=0.142]\n",
            "Evaluating Epoch 24/50: 100%|██████████| 313/313 [00:03<00:00, 79.75batch/s, loss=0.526, test_accuracy=85.91%]\n"
          ]
        },
        {
          "output_type": "stream",
          "name": "stdout",
          "text": [
            "Train Loss: 0.1415 | Train Accuracy: 95.14%\n",
            "Test Loss: 0.5262 | Test Accuracy: 85.91%\n",
            "New best test accuracy: 85.91% - Model saved.\n",
            "--------------------------------------------------\n"
          ]
        },
        {
          "output_type": "stream",
          "name": "stderr",
          "text": [
            "Epoch 25/50: 100%|██████████| 1563/1563 [00:26<00:00, 57.90batch/s, train_accuracy=94.95%, train_loss=0.142]\n",
            "Evaluating Epoch 25/50: 100%|██████████| 313/313 [00:03<00:00, 78.99batch/s, loss=0.528, test_accuracy=85.82%]\n"
          ]
        },
        {
          "output_type": "stream",
          "name": "stdout",
          "text": [
            "Train Loss: 0.1423 | Train Accuracy: 94.95%\n",
            "Test Loss: 0.5277 | Test Accuracy: 85.82%\n",
            "No improvement in test accuracy for 1 epoch(s).\n",
            "--------------------------------------------------\n"
          ]
        },
        {
          "output_type": "stream",
          "name": "stderr",
          "text": [
            "Epoch 26/50: 100%|██████████| 1563/1563 [00:26<00:00, 58.09batch/s, train_accuracy=95.19%, train_loss=0.14]\n",
            "Evaluating Epoch 26/50: 100%|██████████| 313/313 [00:03<00:00, 79.91batch/s, loss=0.523, test_accuracy=85.85%]\n"
          ]
        },
        {
          "output_type": "stream",
          "name": "stdout",
          "text": [
            "Train Loss: 0.1396 | Train Accuracy: 95.19%\n",
            "Test Loss: 0.5227 | Test Accuracy: 85.85%\n",
            "Learning Rate adjusted to: 1.0000000000000002e-06\n",
            "No improvement in test accuracy for 2 epoch(s).\n",
            "--------------------------------------------------\n"
          ]
        },
        {
          "output_type": "stream",
          "name": "stderr",
          "text": [
            "Epoch 27/50: 100%|██████████| 1563/1563 [00:26<00:00, 57.91batch/s, train_accuracy=95.08%, train_loss=0.141]\n",
            "Evaluating Epoch 27/50: 100%|██████████| 313/313 [00:03<00:00, 80.15batch/s, loss=0.526, test_accuracy=85.86%]\n"
          ]
        },
        {
          "output_type": "stream",
          "name": "stdout",
          "text": [
            "Train Loss: 0.1409 | Train Accuracy: 95.08%\n",
            "Test Loss: 0.5259 | Test Accuracy: 85.86%\n",
            "No improvement in test accuracy for 3 epoch(s).\n",
            "--------------------------------------------------\n"
          ]
        },
        {
          "output_type": "stream",
          "name": "stderr",
          "text": [
            "Epoch 28/50: 100%|██████████| 1563/1563 [00:26<00:00, 58.20batch/s, train_accuracy=95.21%, train_loss=0.138]\n",
            "Evaluating Epoch 28/50: 100%|██████████| 313/313 [00:03<00:00, 80.94batch/s, loss=0.527, test_accuracy=85.76%]\n"
          ]
        },
        {
          "output_type": "stream",
          "name": "stdout",
          "text": [
            "Train Loss: 0.1384 | Train Accuracy: 95.21%\n",
            "Test Loss: 0.5269 | Test Accuracy: 85.76%\n",
            "No improvement in test accuracy for 4 epoch(s).\n",
            "--------------------------------------------------\n"
          ]
        },
        {
          "output_type": "stream",
          "name": "stderr",
          "text": [
            "Epoch 29/50: 100%|██████████| 1563/1563 [00:27<00:00, 57.06batch/s, train_accuracy=95.24%, train_loss=0.139]\n",
            "Evaluating Epoch 29/50: 100%|██████████| 313/313 [00:04<00:00, 77.82batch/s, loss=0.524, test_accuracy=85.84%]\n"
          ]
        },
        {
          "output_type": "stream",
          "name": "stdout",
          "text": [
            "Train Loss: 0.1388 | Train Accuracy: 95.24%\n",
            "Test Loss: 0.5242 | Test Accuracy: 85.84%\n",
            "No improvement in test accuracy for 5 epoch(s).\n",
            "--------------------------------------------------\n"
          ]
        },
        {
          "output_type": "stream",
          "name": "stderr",
          "text": [
            "Epoch 30/50: 100%|██████████| 1563/1563 [00:27<00:00, 56.53batch/s, train_accuracy=95.31%, train_loss=0.136]\n",
            "Evaluating Epoch 30/50: 100%|██████████| 313/313 [00:04<00:00, 73.26batch/s, loss=0.529, test_accuracy=85.94%]\n"
          ]
        },
        {
          "output_type": "stream",
          "name": "stdout",
          "text": [
            "Train Loss: 0.1356 | Train Accuracy: 95.31%\n",
            "Test Loss: 0.5288 | Test Accuracy: 85.94%\n",
            "New best test accuracy: 85.94% - Model saved.\n",
            "--------------------------------------------------\n"
          ]
        },
        {
          "output_type": "stream",
          "name": "stderr",
          "text": [
            "Epoch 31/50: 100%|██████████| 1563/1563 [00:27<00:00, 57.18batch/s, train_accuracy=95.24%, train_loss=0.136]\n",
            "Evaluating Epoch 31/50: 100%|██████████| 313/313 [00:04<00:00, 65.39batch/s, loss=0.532, test_accuracy=85.79%]\n"
          ]
        },
        {
          "output_type": "stream",
          "name": "stdout",
          "text": [
            "Train Loss: 0.1363 | Train Accuracy: 95.24%\n",
            "Test Loss: 0.5322 | Test Accuracy: 85.79%\n",
            "No improvement in test accuracy for 1 epoch(s).\n",
            "--------------------------------------------------\n"
          ]
        },
        {
          "output_type": "stream",
          "name": "stderr",
          "text": [
            "Epoch 32/50: 100%|██████████| 1563/1563 [00:26<00:00, 59.25batch/s, train_accuracy=95.31%, train_loss=0.136]\n",
            "Evaluating Epoch 32/50: 100%|██████████| 313/313 [00:05<00:00, 61.44batch/s, loss=0.531, test_accuracy=85.82%]\n"
          ]
        },
        {
          "output_type": "stream",
          "name": "stdout",
          "text": [
            "Train Loss: 0.1357 | Train Accuracy: 95.31%\n",
            "Test Loss: 0.5306 | Test Accuracy: 85.82%\n",
            "No improvement in test accuracy for 2 epoch(s).\n",
            "--------------------------------------------------\n"
          ]
        },
        {
          "output_type": "stream",
          "name": "stderr",
          "text": [
            "Epoch 33/50: 100%|██████████| 1563/1563 [00:25<00:00, 60.27batch/s, train_accuracy=95.12%, train_loss=0.14]\n",
            "Evaluating Epoch 33/50: 100%|██████████| 313/313 [00:05<00:00, 61.29batch/s, loss=0.531, test_accuracy=85.77%]\n"
          ]
        },
        {
          "output_type": "stream",
          "name": "stdout",
          "text": [
            "Train Loss: 0.1400 | Train Accuracy: 95.12%\n",
            "Test Loss: 0.5306 | Test Accuracy: 85.77%\n",
            "No improvement in test accuracy for 3 epoch(s).\n",
            "--------------------------------------------------\n"
          ]
        },
        {
          "output_type": "stream",
          "name": "stderr",
          "text": [
            "Epoch 34/50: 100%|██████████| 1563/1563 [00:25<00:00, 60.20batch/s, train_accuracy=95.26%, train_loss=0.136]\n",
            "Evaluating Epoch 34/50: 100%|██████████| 313/313 [00:05<00:00, 61.95batch/s, loss=0.527, test_accuracy=85.73%]\n"
          ]
        },
        {
          "output_type": "stream",
          "name": "stdout",
          "text": [
            "Train Loss: 0.1360 | Train Accuracy: 95.26%\n",
            "Test Loss: 0.5271 | Test Accuracy: 85.73%\n",
            "No improvement in test accuracy for 4 epoch(s).\n",
            "--------------------------------------------------\n"
          ]
        },
        {
          "output_type": "stream",
          "name": "stderr",
          "text": [
            "Epoch 35/50: 100%|██████████| 1563/1563 [00:26<00:00, 59.81batch/s, train_accuracy=95.08%, train_loss=0.14]\n",
            "Evaluating Epoch 35/50: 100%|██████████| 313/313 [00:05<00:00, 59.12batch/s, loss=0.533, test_accuracy=85.84%]\n"
          ]
        },
        {
          "output_type": "stream",
          "name": "stdout",
          "text": [
            "Train Loss: 0.1399 | Train Accuracy: 95.08%\n",
            "Test Loss: 0.5329 | Test Accuracy: 85.84%\n",
            "No improvement in test accuracy for 5 epoch(s).\n",
            "--------------------------------------------------\n"
          ]
        },
        {
          "output_type": "stream",
          "name": "stderr",
          "text": [
            "Epoch 36/50: 100%|██████████| 1563/1563 [00:26<00:00, 59.92batch/s, train_accuracy=95.19%, train_loss=0.138]\n",
            "Evaluating Epoch 36/50: 100%|██████████| 313/313 [00:05<00:00, 55.74batch/s, loss=0.523, test_accuracy=85.82%]\n"
          ]
        },
        {
          "output_type": "stream",
          "name": "stdout",
          "text": [
            "Train Loss: 0.1379 | Train Accuracy: 95.19%\n",
            "Test Loss: 0.5227 | Test Accuracy: 85.82%\n",
            "No improvement in test accuracy for 6 epoch(s).\n",
            "--------------------------------------------------\n"
          ]
        },
        {
          "output_type": "stream",
          "name": "stderr",
          "text": [
            "Epoch 37/50: 100%|██████████| 1563/1563 [00:26<00:00, 59.94batch/s, train_accuracy=95.46%, train_loss=0.133]\n",
            "Evaluating Epoch 37/50: 100%|██████████| 313/313 [00:05<00:00, 59.25batch/s, loss=0.529, test_accuracy=85.85%]\n",
            "<ipython-input-5-a8d88f61519e>:118: FutureWarning: You are using `torch.load` with `weights_only=False` (the current default value), which uses the default pickle module implicitly. It is possible to construct malicious pickle data which will execute arbitrary code during unpickling (See https://github.com/pytorch/pytorch/blob/main/SECURITY.md#untrusted-models for more details). In a future release, the default value for `weights_only` will be flipped to `True`. This limits the functions that could be executed during unpickling. Arbitrary objects will no longer be allowed to be loaded via this mode unless they are explicitly allowlisted by the user via `torch.serialization.add_safe_globals`. We recommend you start setting `weights_only=True` for any use case where you don't have full control of the loaded file. Please open an issue on GitHub for any issues related to this experimental feature.\n",
            "  model.load_state_dict(torch.load(best_model_path))\n"
          ]
        },
        {
          "output_type": "stream",
          "name": "stdout",
          "text": [
            "Train Loss: 0.1331 | Train Accuracy: 95.46%\n",
            "Test Loss: 0.5290 | Test Accuracy: 85.85%\n",
            "No improvement in test accuracy for 7 epoch(s).\n",
            "Early stopping triggered after 37 epochs.\n",
            "--------------------------------------------------\n",
            "Early stopping triggered. Stopping training.\n",
            "Loaded the best model from /content/drive/MyDrive/Model_Weights/CIFAR10/best_model.pth with test accuracy: 85.94%\n"
          ]
        }
      ]
    }
  ]
}